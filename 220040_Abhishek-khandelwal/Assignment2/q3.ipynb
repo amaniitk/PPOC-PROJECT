import matplotlib.pyplot as plt
x_axis = [2,5,8,11]
y_axis = [23,68,38,97]
plt.scatter(x_axis,y_axis, color='red')
plt.plot(x_axis,y_axis)
