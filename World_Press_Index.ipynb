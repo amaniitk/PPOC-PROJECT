{
 "cells": [
  {
   "cell_type": "code",
   "execution_count": 18,
   "id": "fac89d77",
   "metadata": {},
   "outputs": [],
   "source": [
    "### Importing the required libraries\n",
    "import pandas as pd\n",
    "import matplotlib.pyplot as plt     "
   ]
  },
  {
   "cell_type": "code",
   "execution_count": 19,
   "id": "4946799c",
   "metadata": {},
   "outputs": [],
   "source": [
    "### Reading data from the csv file using pandas\n",
    "dat = pd.read_csv('World_Press_Index.csv')"
   ]
  },
  {
   "cell_type": "code",
   "execution_count": 20,
   "id": "dff6e5ae",
   "metadata": {},
   "outputs": [
    {
     "data": {
      "text/html": [
       "<div>\n",
       "<style scoped>\n",
       "    .dataframe tbody tr th:only-of-type {\n",
       "        vertical-align: middle;\n",
       "    }\n",
       "\n",
       "    .dataframe tbody tr th {\n",
       "        vertical-align: top;\n",
       "    }\n",
       "\n",
       "    .dataframe thead th {\n",
       "        text-align: right;\n",
       "    }\n",
       "</style>\n",
       "<table border=\"1\" class=\"dataframe\">\n",
       "  <thead>\n",
       "    <tr style=\"text-align: right;\">\n",
       "      <th></th>\n",
       "      <th>Country Name</th>\n",
       "      <th>Abuse Score 2021</th>\n",
       "      <th>Underlying Situation Score 2021</th>\n",
       "      <th>Global Score 2021</th>\n",
       "      <th>Global Score 2020</th>\n",
       "      <th>Global Score 2019</th>\n",
       "    </tr>\n",
       "  </thead>\n",
       "  <tbody>\n",
       "    <tr>\n",
       "      <th>0</th>\n",
       "      <td>Norway</td>\n",
       "      <td>0.00</td>\n",
       "      <td>6.72</td>\n",
       "      <td>6.72</td>\n",
       "      <td>7.84</td>\n",
       "      <td>7.82</td>\n",
       "    </tr>\n",
       "    <tr>\n",
       "      <th>1</th>\n",
       "      <td>Finland</td>\n",
       "      <td>0.00</td>\n",
       "      <td>6.99</td>\n",
       "      <td>6.99</td>\n",
       "      <td>7.93</td>\n",
       "      <td>7.90</td>\n",
       "    </tr>\n",
       "    <tr>\n",
       "      <th>2</th>\n",
       "      <td>Sweden</td>\n",
       "      <td>0.00</td>\n",
       "      <td>7.24</td>\n",
       "      <td>7.24</td>\n",
       "      <td>9.25</td>\n",
       "      <td>8.31</td>\n",
       "    </tr>\n",
       "    <tr>\n",
       "      <th>3</th>\n",
       "      <td>Denmark</td>\n",
       "      <td>0.00</td>\n",
       "      <td>8.57</td>\n",
       "      <td>8.57</td>\n",
       "      <td>8.13</td>\n",
       "      <td>9.87</td>\n",
       "    </tr>\n",
       "    <tr>\n",
       "      <th>4</th>\n",
       "      <td>Costa Rica</td>\n",
       "      <td>10.99</td>\n",
       "      <td>8.21</td>\n",
       "      <td>8.76</td>\n",
       "      <td>10.53</td>\n",
       "      <td>12.24</td>\n",
       "    </tr>\n",
       "    <tr>\n",
       "      <th>...</th>\n",
       "      <td>...</td>\n",
       "      <td>...</td>\n",
       "      <td>...</td>\n",
       "      <td>...</td>\n",
       "      <td>...</td>\n",
       "      <td>...</td>\n",
       "    </tr>\n",
       "    <tr>\n",
       "      <th>175</th>\n",
       "      <td>Djibouti</td>\n",
       "      <td>10.99</td>\n",
       "      <td>78.62</td>\n",
       "      <td>78.62</td>\n",
       "      <td>76.73</td>\n",
       "      <td>71.36</td>\n",
       "    </tr>\n",
       "    <tr>\n",
       "      <th>176</th>\n",
       "      <td>China</td>\n",
       "      <td>81.77</td>\n",
       "      <td>78.10</td>\n",
       "      <td>78.72</td>\n",
       "      <td>78.48</td>\n",
       "      <td>78.92</td>\n",
       "    </tr>\n",
       "    <tr>\n",
       "      <th>177</th>\n",
       "      <td>Turkmenistan</td>\n",
       "      <td>0.00</td>\n",
       "      <td>80.03</td>\n",
       "      <td>80.03</td>\n",
       "      <td>85.44</td>\n",
       "      <td>85.44</td>\n",
       "    </tr>\n",
       "    <tr>\n",
       "      <th>178</th>\n",
       "      <td>North Korea</td>\n",
       "      <td>51.93</td>\n",
       "      <td>81.28</td>\n",
       "      <td>81.28</td>\n",
       "      <td>85.82</td>\n",
       "      <td>83.40</td>\n",
       "    </tr>\n",
       "    <tr>\n",
       "      <th>179</th>\n",
       "      <td>Eritrea</td>\n",
       "      <td>73.05</td>\n",
       "      <td>82.05</td>\n",
       "      <td>81.45</td>\n",
       "      <td>83.50</td>\n",
       "      <td>80.26</td>\n",
       "    </tr>\n",
       "  </tbody>\n",
       "</table>\n",
       "<p>180 rows × 6 columns</p>\n",
       "</div>"
      ],
      "text/plain": [
       "     Country Name  Abuse Score 2021  Underlying Situation Score 2021  \\\n",
       "0          Norway              0.00                             6.72   \n",
       "1         Finland              0.00                             6.99   \n",
       "2          Sweden              0.00                             7.24   \n",
       "3         Denmark              0.00                             8.57   \n",
       "4      Costa Rica             10.99                             8.21   \n",
       "..            ...               ...                              ...   \n",
       "175      Djibouti             10.99                            78.62   \n",
       "176         China             81.77                            78.10   \n",
       "177  Turkmenistan              0.00                            80.03   \n",
       "178   North Korea             51.93                            81.28   \n",
       "179       Eritrea             73.05                            82.05   \n",
       "\n",
       "     Global Score 2021  Global Score 2020  Global Score 2019  \n",
       "0                 6.72               7.84               7.82  \n",
       "1                 6.99               7.93               7.90  \n",
       "2                 7.24               9.25               8.31  \n",
       "3                 8.57               8.13               9.87  \n",
       "4                 8.76              10.53              12.24  \n",
       "..                 ...                ...                ...  \n",
       "175              78.62              76.73              71.36  \n",
       "176              78.72              78.48              78.92  \n",
       "177              80.03              85.44              85.44  \n",
       "178              81.28              85.82              83.40  \n",
       "179              81.45              83.50              80.26  \n",
       "\n",
       "[180 rows x 6 columns]"
      ]
     },
     "execution_count": 20,
     "metadata": {},
     "output_type": "execute_result"
    }
   ],
   "source": [
    "dat"
   ]
  },
  {
   "cell_type": "code",
   "execution_count": 21,
   "id": "33e8f7fc",
   "metadata": {},
   "outputs": [
    {
     "data": {
      "text/plain": [
       "Country Name                       Turkmenistan\n",
       "Abuse Score 2021                            0.0\n",
       "Underlying Situation Score 2021           80.03\n",
       "Global Score 2021                         80.03\n",
       "Global Score 2020                         85.44\n",
       "Global Score 2019                         85.44\n",
       "Name: 177, dtype: object"
      ]
     },
     "execution_count": 21,
     "metadata": {},
     "output_type": "execute_result"
    }
   ],
   "source": [
    "# The row with the best Global Score in 2019\n",
    "best_2019 = dat.loc[dat['Global Score 2019'].idxmax()]\n",
    "best_2019"
   ]
  },
  {
   "cell_type": "code",
   "execution_count": 22,
   "id": "9ad0ca2c",
   "metadata": {},
   "outputs": [
    {
     "data": {
      "text/plain": [
       "Country Name                       Norway\n",
       "Abuse Score 2021                      0.0\n",
       "Underlying Situation Score 2021      6.72\n",
       "Global Score 2021                    6.72\n",
       "Global Score 2020                    7.84\n",
       "Global Score 2019                    7.82\n",
       "Name: 0, dtype: object"
      ]
     },
     "execution_count": 22,
     "metadata": {},
     "output_type": "execute_result"
    }
   ],
   "source": [
    "# The row with the worst Global Score in 2021\n",
    "worst_2021 = dat.loc[dat['Global Score 2021'].idxmin()]\n",
    "worst_2021"
   ]
  },
  {
   "cell_type": "code",
   "execution_count": 23,
   "id": "0db5deee",
   "metadata": {},
   "outputs": [
    {
     "data": {
      "image/png": "[encoded data removed]",
      "text/plain": [
       "<Figure size 640x480 with 1 Axes>"
      ]
     },
     "metadata": {},
     "output_type": "display_data"
    }
   ],
   "source": [
    "# Plotting a bar graph using matplotlib\n",
    "plt.bar(['Best 2019', 'Worst 2021'], [best_2019['Global Score 2019'], worst_2021['Global Score 2021']])\n",
    "plt.ylabel('Global Score')\n",
    "plt.title(\"Best score in 2019 vs Worst Score in 2021\")\n",
    "plt.show()"
   ]
  },
  {
   "cell_type": "code",
   "execution_count": null,
   "id": "3f65158f",
   "metadata": {},
   "outputs": [],
   "source": []
  }
 ],
 "metadata": {
  "kernelspec": {
   "display_name": "Python 3 (ipykernel)",
   "language": "python",
   "name": "python3"
  },
  "language_info": {
   "codemirror_mode": {
    "name": "ipython",
    "version": 3
   },
   "file_extension": ".py",
   "mimetype": "text/x-python",
   "name": "python",
   "nbconvert_exporter": "python",
   "pygments_lexer": "ipython3",
   "version": "3.9.13"
  }
 },
 "nbformat": 4,
 "nbformat_minor": 5
}
