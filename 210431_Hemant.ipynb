{
 "cells": [
  {
   "cell_type": "code",
   "execution_count": 1,
   "id": "cb7ec23d",
   "metadata": {},
   "outputs": [
    {
     "name": "stdout",
     "output_type": "stream",
     "text": [
      "210431 HEMANT BUNKER\n"
     ]
    }
   ],
   "source": [
    "print(\"210431 HEMANT BUNKER\")"
   ]
  },
  {
   "cell_type": "code",
   "execution_count": 2,
   "id": "29d4b3ff",
   "metadata": {},
   "outputs": [
    {
     "name": "stdout",
     "output_type": "stream",
     "text": [
      "0.25\n"
     ]
    }
   ],
   "source": [
    "def probability_red(red_ball,black_ball):\n",
    "    ans = red_ball/(red_ball + black_ball)\n",
    "    print(ans)\n",
    "probability_red(2,6)"
   ]
  },
  {
   "cell_type": "code",
   "execution_count": 7,
   "id": "f7121023",
   "metadata": {},
   "outputs": [
    {
     "name": "stdout",
     "output_type": "stream",
     "text": [
      "45\n"
     ]
    }
   ],
   "source": [
    "sum = 0\n",
    "for x in range(10):\n",
    "    sum = sum + x\n",
    "print(sum)"
   ]
  },
  {
   "cell_type": "code",
   "execution_count": null,
   "id": "6793dae6",
   "metadata": {},
   "outputs": [],
   "source": []
  }
 ],
 "metadata": {
  "kernelspec": {
   "display_name": "Python 3 (ipykernel)",
   "language": "python",
   "name": "python3"
  },
  "language_info": {
   "codemirror_mode": {
    "name": "ipython",
    "version": 3
   },
   "file_extension": ".py",
   "mimetype": "text/x-python",
   "name": "python",
   "nbconvert_exporter": "python",
   "pygments_lexer": "ipython3",
   "version": "3.9.13"
  }
 },
 "nbformat": 4,
 "nbformat_minor": 5
}
