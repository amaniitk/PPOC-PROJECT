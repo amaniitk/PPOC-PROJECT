{
 "cells": [
  {
   "cell_type": "code",
   "execution_count": 1,
   "id": "82d287b2",
   "metadata": {},
   "outputs": [],
   "source": [
    "import numpy as np          ## importing the required libraries"
   ]
  },
  {
   "cell_type": "code",
   "execution_count": 2,
   "id": "a2abeca8",
   "metadata": {},
   "outputs": [],
   "source": [
    "def sigmoid(z):              ## First activation function       \n",
    "    return(1/1+np.exp(-z))"
   ]
  },
  {
   "cell_type": "code",
   "execution_count": 3,
   "id": "ceb11162",
   "metadata": {},
   "outputs": [],
   "source": [
    "def tanh(z):                    ## Second activation function\n",
    "    ans = (1-np.exp(-2*z))/(1+np.exp(-2*z))\n",
    "    return ans"
   ]
  },
  {
   "cell_type": "code",
   "execution_count": 4,
   "id": "4fd7d33a",
   "metadata": {},
   "outputs": [
    {
     "name": "stdout",
     "output_type": "stream",
     "text": [
      "[1.36787944 1.13533528 1.01831564 1.00091188]\n",
      "[0.76159416 0.96402758 0.9993293  0.99999834]\n"
     ]
    }
   ],
   "source": [
    "X = np.array([1,2,4,7])\n",
    "y1 = sigmoid(X)           \n",
    "y2 = tanh(X)\n",
    "print(y1)\n",
    "print(y2)\n",
    " ### We can see that as we give a numpy array to the function, then we get another array,where the function is\n",
    " ### applied element-wise to each element"
   ]
  },
  {
   "cell_type": "code",
   "execution_count": 5,
   "id": "d077f26d",
   "metadata": {},
   "outputs": [
    {
     "name": "stdout",
     "output_type": "stream",
     "text": [
      "1.1353352832366128\n",
      "0.9640275800758168\n"
     ]
    }
   ],
   "source": [
    "Z = 2\n",
    "print(sigmoid(Z))\n",
    "print(tanh(Z))"
   ]
  },
  {
   "cell_type": "code",
   "execution_count": null,
   "id": "5fc197aa",
   "metadata": {},
   "outputs": [],
   "source": []
  }
 ],
 "metadata": {
  "kernelspec": {
   "display_name": "Python 3 (ipykernel)",
   "language": "python",
   "name": "python3"
  },
  "language_info": {
   "codemirror_mode": {
    "name": "ipython",
    "version": 3
   },
   "file_extension": ".py",
   "mimetype": "text/x-python",
   "name": "python",
   "nbconvert_exporter": "python",
   "pygments_lexer": "ipython3",
   "version": "3.9.13"
  }
 },
 "nbformat": 4,
 "nbformat_minor": 5
}
